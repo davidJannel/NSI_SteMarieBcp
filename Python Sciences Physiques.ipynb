{
 "cells": [
  {
   "cell_type": "markdown",
   "metadata": {},
   "source": [
    "# Python pour les Sciences Physiques\n",
    "## 1 Une calculatrice\n",
    "Python est une grosse calculatrice (programmable de plus)"
   ]
  },
  {
   "cell_type": "markdown",
   "metadata": {},
   "source": [
    "**Addition et soustraction**"
   ]
  },
  {
   "cell_type": "code",
   "execution_count": 1,
   "metadata": {},
   "outputs": [
    {
     "data": {
      "text/plain": [
       "-1"
      ]
     },
     "execution_count": 1,
     "metadata": {},
     "output_type": "execute_result"
    }
   ],
   "source": [
    "2+1\n",
    "3-4"
   ]
  },
  {
   "cell_type": "markdown",
   "metadata": {},
   "source": [
    "**Multiplication et division**"
   ]
  },
  {
   "cell_type": "code",
   "execution_count": 2,
   "metadata": {},
   "outputs": [
    {
     "data": {
      "text/plain": [
       "6"
      ]
     },
     "execution_count": 2,
     "metadata": {},
     "output_type": "execute_result"
    }
   ],
   "source": [
    "3*2"
   ]
  },
  {
   "cell_type": "code",
   "execution_count": 3,
   "metadata": {},
   "outputs": [
    {
     "data": {
      "text/plain": [
       "2.5"
      ]
     },
     "execution_count": 3,
     "metadata": {},
     "output_type": "execute_result"
    }
   ],
   "source": [
    "5/2"
   ]
  },
  {
   "cell_type": "markdown",
   "metadata": {},
   "source": [
    "La division peut être entière également."
   ]
  },
  {
   "cell_type": "code",
   "execution_count": null,
   "metadata": {},
   "outputs": [],
   "source": [
    "5//2"
   ]
  },
  {
   "cell_type": "markdown",
   "metadata": {},
   "source": [
    "Et le reste de cette division est :"
   ]
  },
  {
   "cell_type": "code",
   "execution_count": null,
   "metadata": {},
   "outputs": [],
   "source": [
    "5%2"
   ]
  },
  {
   "cell_type": "markdown",
   "metadata": {},
   "source": [
    "**Elever à la puissance**"
   ]
  },
  {
   "cell_type": "code",
   "execution_count": null,
   "metadata": {},
   "outputs": [],
   "source": [
    "5**2"
   ]
  },
  {
   "cell_type": "markdown",
   "metadata": {},
   "source": [
    "**La notation scientifique**  \n",
    "utiliser la lettre \"e\""
   ]
  },
  {
   "cell_type": "code",
   "execution_count": null,
   "metadata": {},
   "outputs": [],
   "source": [
    "1.5e-3"
   ]
  },
  {
   "cell_type": "markdown",
   "metadata": {},
   "source": [
    "**La priorité des opérations**  \n",
    "La règle est PEMDAS (du plus prioritaire au moins)\n",
    "* Parenthèses\n",
    "* Exposants\n",
    "* Multiplications et Divisions\n",
    "* Additions et Soustractions"
   ]
  },
  {
   "cell_type": "markdown",
   "metadata": {},
   "source": [
    "**<span style=\"color:#fb4141\">Situation d'entrainement : Savoir utiliser la troisième loi de Kepler (TS)</span>**  \n",
    "Troisième loi de Kepler :  \n",
    "$$ \\dfrac{T^2}{(R_T+h)^3}=\\dfrac{4\\pi^2}{GM_T} $$\n",
    "Calculer l'altitude d'un satellite terrestre de période égale à 5 h.  \n",
    "*Données :*  \n",
    "*Masse de la Terre : $5.97\\times10^{24}$ kg*  \n",
    "*Rayon terrestre : $6378$ km*  \n",
    "*$G=6.67\\times10^{-11}~m^3.kg^{-1}.s^{-2}$*"
   ]
  },
  {
   "cell_type": "code",
   "execution_count": null,
   "metadata": {},
   "outputs": [],
   "source": [
    "# votre code ici (Le dièse permet de commenter du code.)"
   ]
  },
  {
   "cell_type": "markdown",
   "metadata": {},
   "source": [
    "**Et les autres fonctions plus compliquées**\n",
    "Exemple de la fonction sinus  \n",
    "On veut calculer l'indice de réfraction d'un milieu"
   ]
  },
  {
   "cell_type": "code",
   "execution_count": null,
   "metadata": {},
   "outputs": [],
   "source": [
    "sin(14)"
   ]
  },
  {
   "cell_type": "markdown",
   "metadata": {},
   "source": [
    "Le message d'erreur nous indique que la fonction sinus n'est pas définie. Il faut donc importer une bibliothèque appellée **numpy** qui contient des fonctions mathèmathiques plus \"compliquées\"."
   ]
  },
  {
   "cell_type": "code",
   "execution_count": null,
   "metadata": {},
   "outputs": [],
   "source": [
    "import numpy as np"
   ]
  },
  {
   "cell_type": "code",
   "execution_count": null,
   "metadata": {},
   "outputs": [],
   "source": [
    "sin(3.14)"
   ]
  },
  {
   "cell_type": "markdown",
   "metadata": {},
   "source": [
    "Là encore un message d'erreur ! Il faut indiquer que la fonction sinus provient de la bibliothèque numpy avec la syntaxe ci-dessous. *np* est ici l'alias de numpy."
   ]
  },
  {
   "cell_type": "code",
   "execution_count": null,
   "metadata": {},
   "outputs": [],
   "source": [
    "np.sin(3.14)"
   ]
  },
  {
   "cell_type": "markdown",
   "metadata": {},
   "source": [
    "Alors maintenant les angles ... en degrés ou radians ?"
   ]
  },
  {
   "cell_type": "code",
   "execution_count": null,
   "metadata": {},
   "outputs": [],
   "source": [
    "np.cos(90)"
   ]
  },
  {
   "cell_type": "markdown",
   "metadata": {},
   "source": [
    "Encore une fois, la bibliothèque numpy, nous donne la solution."
   ]
  },
  {
   "cell_type": "code",
   "execution_count": null,
   "metadata": {},
   "outputs": [],
   "source": [
    "np.cos(np.radians(90))"
   ]
  },
  {
   "cell_type": "markdown",
   "metadata": {},
   "source": [
    "La précision n'est pas toujours au rdv ! La preuve sur un autre exemple plus parlant."
   ]
  },
  {
   "cell_type": "code",
   "execution_count": null,
   "metadata": {},
   "outputs": [],
   "source": [
    "0.1+0.2"
   ]
  },
  {
   "cell_type": "markdown",
   "metadata": {},
   "source": [
    "**<span style=\"color:#fb4141\">Situation d'entrainement : Calcul d'un angle de réfraction (2nde)</span>**  \n",
    "Prendre une situation quelconque."
   ]
  },
  {
   "cell_type": "code",
   "execution_count": null,
   "metadata": {},
   "outputs": [],
   "source": [
    "# Votre code ici"
   ]
  },
  {
   "cell_type": "markdown",
   "metadata": {},
   "source": [
    "## 2 Représenter un graphe  \n",
    "Pour les représentations graphiques, on va avoir besoin d'une bibliothèque nommée matplotlib. L'importation des bibliothèques se fait toujours en début de programme. Le code s'execute ligne après ligne."
   ]
  },
  {
   "cell_type": "code",
   "execution_count": null,
   "metadata": {},
   "outputs": [],
   "source": [
    "import matplotlib.pyplot as plt\n",
    "import numpy as np\n",
    "t=np.arange(0,100,0.01)\n",
    "u=np.sin(2*t)\n",
    "v=np.sin(0.05*t)\n",
    "plt.plot(t,u*v)\n",
    "plt.xlabel(\"t en s\")\n",
    "plt.ylabel(\"u en V\")\n",
    "plt.title(\"modulation d'amplitude\")\n",
    "plt.grid(True)\n",
    "plt.show()"
   ]
  },
  {
   "cell_type": "code",
   "execution_count": null,
   "metadata": {},
   "outputs": [],
   "source": [
    "# Importation des bibliothèques\n",
    "import matplotlib.pyplot as plt\n",
    "import numpy as np\n",
    "\n",
    "# Les données\n",
    "I=np.arange(0,2,0.1)         # liste de valeurs allant de 0 à 10 (exclu) avec pas de 0.1\n",
    "U=9.0-5.5*I                  # U est une liste construite à partir des valeurs de I \n",
    "\n",
    "# On choisit ce que l'on veut afficher en abscisse et en ordonnée\n",
    "plt.plot(I,U)                \n",
    "\n",
    "# Mise en forme du graphe (nom des axes, titre ...)\n",
    "plt.xlabel(\"I en A\")         \n",
    "plt.ylabel(\"U en V\")\n",
    "plt.axis([0, 2, 0, 10])      # définition de la fenêtre d'affichage [xmin,xmax,ymin,ymax]\n",
    "plt.title(\"Caractéristique d'une pile\")\n",
    "\n",
    "# affichage du graphe\n",
    "plt.show()"
   ]
  },
  {
   "cell_type": "markdown",
   "metadata": {},
   "source": [
    "**<span style=\"color:#fb4141\">Situation d'entrainement : Charge d'un condensateur (anciennement TS)</span>**  \n",
    "$$u(t)=10\\times(1-e^{\\frac{-t}{2}})$$  \n",
    "Écrire le code pour obtenir la courbe ci-dessous.  \n",
    "![Charge d'un condensateur](img_condensateur.png)  \n",
    "*Le quadrillage n'est pas nécessaire.*  \n",
    "*[Aide](http://perso.numericable.fr/jules.svartz/prepa/pdf/Memento_matplotlib_numpy.pdf) pour numpy et pyplot*"
   ]
  },
  {
   "cell_type": "code",
   "execution_count": null,
   "metadata": {},
   "outputs": [],
   "source": [
    "import matplotlib.pyplot as plt\n",
    "import numpy as np\n",
    "\n",
    "# Votre code ci-dessous\n"
   ]
  },
  {
   "cell_type": "markdown",
   "metadata": {},
   "source": [
    "[Solution](https://github.com/davidJannel/Python-Sciences-Physiques/blob/master/Charge%20d'un%20condensateur.ipynb)"
   ]
  },
  {
   "cell_type": "markdown",
   "metadata": {},
   "source": [
    "**Pour afficher le graphe d'une série de mesures expérimentales**  \n",
    "Dans les exemples précédents les grandeurs en abscisses étaient des tableaux de valeurs créés automatiquement à l'aide de la fonction arange de numpy. Les grandeurs en ordonnées étaient calculées à partir du tableau de valeur créé en abscisse.  \n",
    "Pour des grandeurs expérimentales, il faut rentrer les valeurs à la main dans des listes avec la syntaxe :  \n",
    "```python\n",
    "liste_X = np.array([valeur1,valeur2,...])\n",
    "```  \n",
    "Le reste du code pour afficher la courbe est identique."
   ]
  },
  {
   "cell_type": "markdown",
   "metadata": {},
   "source": [
    "**<span style=\"color:#fb4141\">Situation d'entrainement : Loi d'Ohm (2nde)</span>**  \n",
    "Tracer la courbe expérimentale U=f(I) à partir des valeurs expérimentales ci-dessous."
   ]
  },
  {
   "cell_type": "markdown",
   "metadata": {},
   "source": [
    "|I en A|0.1|0.2|0.3|0.4|0.5|\n",
    "|:-|:-:|:-:|:-:|:-:|:-:|\n",
    "|U en V|1.1|2.1|3.2|4.4|5.3|"
   ]
  },
  {
   "cell_type": "code",
   "execution_count": null,
   "metadata": {},
   "outputs": [],
   "source": [
    "import matplotlib.pyplot as plt\n",
    "import numpy as np\n",
    "\n",
    "# Votre code ci-dessous"
   ]
  },
  {
   "cell_type": "markdown",
   "metadata": {},
   "source": [
    "[Solution](https://github.com/davidJannel/Python-Sciences-Physiques/blob/master/Loi%20d'Ohm.ipynb)"
   ]
  },
  {
   "cell_type": "markdown",
   "metadata": {},
   "source": [
    "## 3. Modéliser une série de données ##    \n",
    "On a deux possibilités pour modéliser une série de données :  \n",
    "\n",
    " \n",
    "\n",
    "Première possibilité, avec le module **stat** de la bibliothèque **scipy**. Je la propose dans la [fiche d'aide](https://github.com/davidJannel/Python-Sciences-Physiques/blob/master/fiche_aide_python.pdf) que l'on peut mettre à disposition des élèves. La modélisation ne peut être qu'une régression de type affine.  \n",
    "```python\n",
    "import scipy.stats as sc\n",
    "\n",
    "# on crée l'objet \"droite\" en appliquant une régression linéaire sur les listes de valeurs en X et Y\n",
    "droite = sc.linregress(liste_X,listeY)\n",
    "\n",
    "# \"droite\" est un objet qui possède des propriétés et des méthodes :\n",
    "# droite.slope permet d'obtenir le coefficient directeur que l'on affecte à la variable \"coefficient\"\n",
    "coefficient = droite.slope\n",
    "# on peut afficher la valeur de \"coefficient\" avec la fonction \"print()\"\n",
    "print(\"Le coefficient directeur vaut :\",coefficient)\n",
    "\n",
    "# droite.intercept permet d'obtenir l'ordonnée à l'origine que l'on affecte à la variable \"origine\"\n",
    "origine = droite.intercept\n",
    "# affichage\n",
    "print(\"L'ordonnée à l'origine vaut :\",origine)\n",
    "```"
   ]
  },
  {
   "cell_type": "markdown",
   "metadata": {},
   "source": [
    "**<span style=\"color:#fb4141\">Situation d'entrainement : Loi d'Ohm modélisation(2nde)</span>**  \n",
    "Utiliser les données de la situation précédente pour afficher la valeur de la résistance du conducteur ohmique comme ci-dessous par exemple.  \n",
    "```La valeur de la résistance du conducteur ohmique est R = 102 Ohms```"
   ]
  },
  {
   "cell_type": "code",
   "execution_count": null,
   "metadata": {},
   "outputs": [],
   "source": [
    "import matplotlib.pyplot as plt # inutile ici car on n'affiche rien !\n",
    "import numpy as np\n",
    "import scipy.stats as sc\n",
    "\n",
    "# listes nommées I et U contenant les données acquises\n",
    "I = np.array([0.1,0.2,0.3,0.4,0.5])\n",
    "U = np.array([1.1,2.1,3.2,4.4,5.3])\n",
    "\n",
    "#votre code ici"
   ]
  },
  {
   "cell_type": "markdown",
   "metadata": {},
   "source": [
    "On peut également afficher sur le graphe représentant les données expérimentales, les données modélisées. Pour cela il faut construire une nouvelle liste de \"données modèles\" à partir de la liste des données mises en abscisse. Cette nouvelle liste sera alors utilisée pour ajouter une courbe à l'aide de l'instruction ```plt.plot()``` sur le graphe."
   ]
  },
  {
   "cell_type": "markdown",
   "metadata": {},
   "source": [
    "**<span style=\"color:#fb4141\">Situation d'entrainement : Loi d'Ohm modélisation(2nde)</span>**   \n",
    "Reprendre les données précédentes pour superposer les courbes données expérimentales et modélisées."
   ]
  },
  {
   "cell_type": "code",
   "execution_count": null,
   "metadata": {},
   "outputs": [],
   "source": [
    "# votre code ici"
   ]
  },
  {
   "cell_type": "markdown",
   "metadata": {},
   "source": [
    "[Solution](https://github.com/davidJannel/Python-Sciences-Physiques/blob/master/Loi%20d'Ohm%20mod%C3%A9lisation.ipynb)"
   ]
  },
  {
   "cell_type": "markdown",
   "metadata": {},
   "source": [
    "La deuxième possibilité utilise la fonction **```polyfit(x,y,n)```** de la bibliothèque **numpy**.  \n",
    "Cette fonction peut modéliser des graphes par des polynomes de n degrés (une parabole par exemple).  \n",
    "[docstring de la fonction polyfit](https://github.com/numpy/numpy/blob/v1.16.1/numpy/lib/polynomial.py#L431-L657)"
   ]
  },
  {
   "cell_type": "markdown",
   "metadata": {},
   "source": [
    "**<span style=\"color:#fb4141\">Exemple d'utilisation : Chute libre (TS)</span>**  \n",
    "Dans cet exemple, on dispose après un pointage vidéo des données `date` et `altitude` du centre d'inertie d'un objet que l'on aurait laissé tomber d'une certaine hauteur sans vitesse initiale. Avec la fonction polyfit() on peut récupérer l'équation de la parabole qui modélise la courbe altitude en fonction du temps.  \n",
    "La fonction polyfit renvoie une liste de valeurs que l'on peut exploiter de la façcon suivante :  \n",
    "```python\n",
    "# Les données à modéliser\n",
    "x = np.array([x0,x1,...])\n",
    "y = np.array([y0,y1,...])\n",
    "# Modélisation par un polynome du second degré y=p0*x^2+p1*x+p2 ou y=ax^2+bx+c en français\n",
    "p = np.polyfit(x,y,2)\n",
    "# la modélisation de p nous donne une liste\n",
    "print(p) # renvoie [p0,p1,p2]\n",
    "# récupération des valeurs de a, b et c\n",
    "print('a = ',p[0]) # p[0] est l'élément de rang 0 de la liste p\n",
    "print('b =',p[1])\n",
    "print('c =',p[2])\n",
    "```"
   ]
  },
  {
   "cell_type": "code",
   "execution_count": 7,
   "metadata": {},
   "outputs": [
    {
     "name": "stdout",
     "output_type": "stream",
     "text": [
      "L'équation horaire est z(t) = -4.924627745835169 t^2 + 0.6825740822644822  t + 2.0630451127819542\n"
     ]
    }
   ],
   "source": [
    "import matplotlib.pyplot as plt\n",
    "import numpy as np\n",
    "\n",
    "# Les données récupérées à l'aide d'un copier-coller d'un fichier texte\n",
    "date = np.array([0,0.04,0.08,0.12,0.16,0.2,0.24,0.28,0.32,0.36,0.4,0.44,0.48,0.52,0.56,0.6,0.64,0.68,0.72])\n",
    "altitude = np.array([2.076,2.076,2.076,2.076,2.044,2.004,1.941,1.87,1.776,1.669,1.548,1.414,1.257,1.092,0.9,0.7,0.48,0.25,0])\n",
    "\n",
    "# Modélisation\n",
    "z = np.polyfit(date,altitude,2)\n",
    "\n",
    "# affichage de l'équation de la courbe modèle\n",
    "print(\"L'équation horaire est z(t) =\",z[0],'t^2 +',z[1],' t +',z[2])"
   ]
  },
  {
   "cell_type": "markdown",
   "metadata": {},
   "source": [
    "**<span style=\"color:#fb4141\">Situation d'entrainement : Loi d'Ohm modélisation(2nde)</span>**   \n",
    "Reprendre les données précédentes pour afficher les courbes données expérimentales et modélisées."
   ]
  },
  {
   "cell_type": "code",
   "execution_count": null,
   "metadata": {},
   "outputs": [],
   "source": [
    "import matplotlib.pyplot as plt\n",
    "import numpy as np\n",
    "\n",
    "# listes nommées I et U contenant les données acquises\n",
    "I = np.array([0.1,0.2,0.3,0.4,0.5])\n",
    "U = np.array([1.1,2.1,3.2,4.4,5.3])\n",
    "\n",
    "#votre code ici"
   ]
  },
  {
   "cell_type": "markdown",
   "metadata": {},
   "source": [
    "## 4. Tracer des vecteurs ##  \n",
    "Le module **pyplot** de la bibliothèque **matplotlib** propose une fonction **`quiver()`** qui permet de tracer sur un graphe une flèche.  \n",
    "La syntaxe est expliquée dans la [fiche d'aide élève](https://github.com/davidJannel/Python-Sciences-Physiques/blob/master/fiche_aide_python.pdf).  \n",
    "Le code proposé dans cette fiche est dans la cellule ci-dessous."
   ]
  },
  {
   "cell_type": "code",
   "execution_count": null,
   "metadata": {},
   "outputs": [],
   "source": [
    "import matplotlib.pyplot as plt\n",
    "import numpy as np\n",
    "\n",
    "# Les données expérimentales\n",
    "x = np.array([0,0,0,0])\n",
    "y = np.array([1.698,1.691,1.674,1.643])\n",
    "\n",
    "# Représentation d'un nuage de points\n",
    "plt.plot(x,y,'o',markersize=4)\n",
    "\n",
    "# Paramètres de la chronophotographie\n",
    "N = 4\n",
    "Dt = 0.035\n",
    "\n",
    "# Calcul de la valeur de la vitesse en chaque point\n",
    "for k in range(0,N-1) :\n",
    "    vy = (y[k+1]-y[k])/Dt\n",
    "    echelle = 0.02\n",
    "    vy = vy*echelle\n",
    "# Tracé des vecteurs vitesse\n",
    "    plt.quiver(x[k],y[k],0,vy,color='red',scale=1,scale_units='xy')\n",
    "\n",
    "# Configuration du graphique\n",
    "plt.xlabel('x (en m)')\n",
    "plt.ylabel('y (en m)')\n",
    "plt.title('Chronophotographie')\n",
    "\n",
    "# Affichage\n",
    "plt.show()"
   ]
  },
  {
   "cell_type": "markdown",
   "metadata": {},
   "source": [
    "**<span style=\"color:#fb4141\">Situation d'entrainement : Chute parabolique (2nde, 1S, TS)</span>**   \n",
    "Sur le même modèle que le script précédent utiliser les données suivantes pour afficher les vecteurs vitesse.  \n",
    "Pour les plus rapides, on peut afficher les vecteurs accélération."
   ]
  },
  {
   "cell_type": "markdown",
   "metadata": {},
   "source": [
    "## 4. La programmation ## "
   ]
  },
  {
   "cell_type": "markdown",
   "metadata": {},
   "source": [
    "### 4.1. Les types en python###  \n",
    "*On aurait pu commencer par cette partie !*  \n",
    "Dans les activités précédentes on a déjà manipulé plusieurs types de variable. Pour connaitre le type d'une variable il suffit d'utiliser la fonction **``type(variable)``**. La fonction renvoie le type qui peut être :  \n",
    "* `int` : on manipule ici un entier\n",
    "* `float` : on manipule un nombre à virgule\n",
    "* `str` : on manipule une chaîne de caractère\n",
    "* `list` : on manipule une liste  \n",
    "L'intéret de cette fonction est minime pour nous ou pour les élèves, mais cela permet de comprendre les objets que l'on manipule. En python, on manipule des objets qui ont chacun des propriétés et des méthodes qui leurs sont propres."
   ]
  },
  {
   "cell_type": "code",
   "execution_count": null,
   "metadata": {},
   "outputs": [],
   "source": [
    "a=2\n",
    "b=2.0\n",
    "c='Blabla'\n",
    "d=[1,2,3]\n",
    "print(type(a),type(b),type(c),type(d))"
   ]
  },
  {
   "cell_type": "markdown",
   "metadata": {},
   "source": [
    "Un autre type tiré de la bibliothèque numpy :"
   ]
  },
  {
   "cell_type": "code",
   "execution_count": null,
   "metadata": {},
   "outputs": [],
   "source": [
    "import numpy as np\n",
    "a=np.array([])\n",
    "type(a)"
   ]
  },
  {
   "cell_type": "markdown",
   "metadata": {},
   "source": [
    "Le typage des variables est dynamique en python. C'est implicite. Ce n'est pas le cas d'autres languages comme en C++ que l'on utilise pour programmer les Arduino. Le code en python est du coup peut être plus lisible ou semble plus facile mais il faut faire attention et toujours avoir en tête le type des objets manipulés."
   ]
  },
  {
   "cell_type": "markdown",
   "metadata": {},
   "source": [
    "### 4.2. Les variables  \n",
    "Faire attention à bien nommer les variables utilisées dans vos programmes. Elles doivent dans la mesure du possible être explicites pour éviter les confusions.  \n",
    "Quelques règles :\n",
    "* ne pas commencer par un chiffre\n",
    "* ne pas utiliser les mots clés du langage comme `if`, `else` , `for`, `while` ... [liste des mots clés](https://fr.wikibooks.org/wiki/Programmation_Python/Tableau_des_mots_r%C3%A9serv%C3%A9s)\n",
    "* éviter de commencer par une majuscule  \n",
    "Pour affecter une valeur à une variable on utilise le `=`. Attention ce n'est pas une 'égalité' comme dans une équation."
   ]
  },
  {
   "cell_type": "code",
   "execution_count": null,
   "metadata": {},
   "outputs": [],
   "source": [
    "a=1\n",
    "b=2\n",
    "print(a)\n",
    "print(b)"
   ]
  },
  {
   "cell_type": "code",
   "execution_count": null,
   "metadata": {},
   "outputs": [],
   "source": [
    "a==b"
   ]
  },
  {
   "cell_type": "code",
   "execution_count": null,
   "metadata": {},
   "outputs": [],
   "source": [
    "b=a\n",
    "a==b"
   ]
  },
  {
   "cell_type": "markdown",
   "metadata": {},
   "source": [
    "### 4.3. Entrées et sorties  \n",
    "Les sorties se font par la fonction **`print()`**. Pas de soucis on a déjà utilisé.  \n",
    "Les entrées peuvent se faire avec l'instruction **`input()`**. Là, c'est plus délicat. Exemple, ci-dessous, on imagine que les élèves veuillent entrer la valeur de l'intensité pour utiliser dans leur programme la loi d'Ohm."
   ]
  },
  {
   "cell_type": "code",
   "execution_count": null,
   "metadata": {},
   "outputs": [],
   "source": [
    "resistance = 5\n",
    "# on affecte à la variable 'intensite' une valeur numérique\n",
    "intensite = input(\"Intensité du courant en A, I = \") # 'Intensité ... =' est le message qui va s'afficher dans la console\n",
    "\n",
    "# on applique la loi d'Ohm\n",
    "print('La tension aux bornes du conducteur ohmique vaut U =',resistance*intensite,'V')"
   ]
  },
  {
   "cell_type": "markdown",
   "metadata": {},
   "source": [
    "Ha ! Surprise !  \n",
    "En fait la variable 'intensite' est une chaine de caractères (type : 'str'). Il faut donc transformer cette chaine de caractères en un nombre à virgule (type : 'float') avec l'instruction `float()`"
   ]
  },
  {
   "cell_type": "code",
   "execution_count": null,
   "metadata": {},
   "outputs": [],
   "source": [
    "resistance = 5\n",
    "# on affecte à la variable 'intensite' une valeur numérique\n",
    "intensite = float(input(\"Intensité du courant en A, I = \")) # 'Intensité ... =' est le message qui va s'afficher dans la console\n",
    "\n",
    "# on applique la loi d'Ohm\n",
    "print('La tension aux bornes du conducteur ohmique vaut U =',resistance*intensite,'V')"
   ]
  },
  {
   "cell_type": "markdown",
   "metadata": {},
   "source": [
    "### 4.4. Les instructions conditionnelles  \n",
    "La structure du programme doit être :  \n",
    "```python\n",
    "if condition :\n",
    "    bloc d'instruction à faire si condition est vraie\n",
    "    ....\n",
    "    fin du bloc\n",
    "instruction suivante\n",
    "```\n",
    "Le **':'** est obligatoire après la condition.  \n",
    "Le passage à la ligne entraine un décalage que l'on appelle **indentation**. Cela correspond à 4 espaces. Cette indentation est également obligatoire et fait partie de la structure du programme. Une fois l'instruction faite (ou condition est fausse), le programme reprend à l'instruction suivante.  \n",
    "On peut également imaginer une instruction à réaliser si la condition est vraie et une autre si elle est fausse en utilisant la syntaxe suivante :  \n",
    "```python\n",
    "if condition :\n",
    "    bloc d'instruction à faire si condition est vraie\n",
    "    ....\n",
    "    fin du bloc\n",
    "else :\n",
    "    bloc d'instruction à faire si la condition est fausse\n",
    "    ...\n",
    "    fin du bloc\n",
    "instruction suivante\n",
    "```\n",
    "On peut enfin utiliser **`elif`** après le **`if`** si il y a plusieurs conditions à tester."
   ]
  },
  {
   "cell_type": "markdown",
   "metadata": {},
   "source": [
    "**<span style=\"color:#fb4141\">Situation d'entrainement : Proportions stoechiométriques (2nde)</span>**  \n",
    "*Petite activité vue dans le livre Hachette de 2nde.*  \n",
    "\n",
    "\n",
    "On considère l'équation de la réaction du type 4 Fe + 3 O2 --> 2 Fe2O3  \n",
    "Compléter le programme pour savoir si le mélange consitué de x moles de fer et de y moles deO2 est stoechiométrique ou non et quel est le réactif limitant.\n"
   ]
  },
  {
   "cell_type": "code",
   "execution_count": null,
   "metadata": {},
   "outputs": [],
   "source": [
    "print(\"L'équation de la réaction du type a A + b B --> produits\\n\\\n",
    "Entrer la valeur des nombres stoechiométriques a et b\")\n",
    "a = float(input(\"a =\"))\n",
    "b = float(input(\"b =\"))\n",
    "print(\"Entrer les quantités initiales des réactifs nA et nB\")\n",
    "n_A = float(input(\"nA =\"))\n",
    "n_B = float(input(\"nB =\"))\n",
    "\n",
    "# votre code ici"
   ]
  },
  {
   "cell_type": "markdown",
   "metadata": {},
   "source": [
    "### 4.5. Les boucles###\n",
    "Deux types de boucles :  \n",
    "#### for ####  \n",
    "On l'utilise quand on connait le nombre de boucles à faire.  \n",
    "La syntaxe est :  \n",
    "```python\n",
    "for i in range(n) : ## i est un compteur allant de 0 à n-1\n",
    "    bloc d'instructions\n",
    "```\n",
    "remarques : 'range(n)' crée une liste allant de 0 à n-1; le : est obligatoire ainsi que l'indentation devant les instructions.  \n",
    "#### while ####\n",
    "On l'utilise lorsqu'on ne connait pas à l'avance le nombre de boucles à faire.  \n",
    "La syntaxe est :  \n",
    "```python\n",
    "while condition à tester :\n",
    "    bloc d'instructions\n",
    "```\n",
    "La boucle s'execute tant que la condition est vraie.  \n",
    "Remarque : attention à ne pas tourner en boucle (boucle infinie)."
   ]
  },
  {
   "cell_type": "markdown",
   "metadata": {},
   "source": [
    "**<span style=\"color:#fb4141\">Exemple de boucle while</span>** dans le sujet 0 de l'épreuve de spécialité sciences physiques en première : [Dosage des ions ferreux](sujet0_1ere.pdf)."
   ]
  },
  {
   "cell_type": "markdown",
   "metadata": {},
   "source": [
    "**<span style=\"color:#fb4141\">Application boucle for</span>** :    \n",
    "Dans les exemples rencontrés, en sciences physiques, elle est surtout utilisée pour remplir une liste ou pour la parcourir.    \n",
    "Imaginons que nous ayons une liste appellée ```list_x``` à parcourir pour faire un calcul de vitesse moyenne. Cette liste est constituée de valeur de distance prise tous les ```dt```. Le calcul de cette vitesse impose de prendre chaque éléments de la liste et de le diviser par la durée de parcours. "
   ]
  },
  {
   "cell_type": "code",
   "execution_count": null,
   "metadata": {},
   "outputs": [],
   "source": [
    "dt=1\n",
    "list_x=[0,1,2,3,4,5,6,7]\n",
    "vitesse_moyenne=[] #la liste est vide\n",
    "\n",
    "# Calcul de la vitesse moyenne :\n",
    "# Pour accéder à l'élément i de la liste la syntaxe est list_x[i]\n",
    "# Le premier élément a pour indice 0\n",
    "# Et on obtient le nombre d'éléments d'une liste avec la fonction len(nom_de_liste)\n",
    "\n",
    "for i in range(len(list_x)) : # i est un indice qui va de 0 à 8 exclu donc 7 !\n",
    "    vitesse_moyenne.append(list_x[i]/(i*dt)) # Calcul de la vitesse que l'on ajoute dans la liste vitesse_moyenne\n",
    "print(vitesse_moyenne)"
   ]
  },
  {
   "cell_type": "markdown",
   "metadata": {},
   "source": [
    "Le programme retourne une erreur classique. Toujour lire la dernière ligne et corriger le problème."
   ]
  },
  {
   "cell_type": "markdown",
   "metadata": {},
   "source": [
    "**<span style=\"color:#fb4141\">Application</span>** : exo livre spé 1ère Belin    \n",
    "Alex et Olivia veulent étudier la tension exercée par un fil lors du mouvement d'un pendule simple.    \n",
    "À l'aide d'un logiciel de pointage ils enregistrent les différentes positions du pendule sur une demi-période et réalisent un programme Python afin de visualiser la trajectoire et représenter les vecteurs forces.    \n",
    "À l'aide de vos connaissances compléter la troisième boucle ```for``` pour calculer $m\\times\\frac{\\Delta{}\\vec{v}}{\\Delta{}t}$ et tracer les vecteurs correspondant à la tension du fil."
   ]
  },
  {
   "cell_type": "code",
   "execution_count": 5,
   "metadata": {},
   "outputs": [
    {
     "name": "stdout",
     "output_type": "stream",
     "text": [
      "À faire\n",
      "À faire\n",
      "À faire\n",
      "À faire\n",
      "À faire\n",
      "À faire\n",
      "À faire\n",
      "À faire\n",
      "À faire\n",
      "À faire\n",
      "À faire\n"
     ]
    },
    {
     "data": {
      "image/png": "[encoded data removed]",
      "text/plain": [
       "<Figure size 432x288 with 1 Axes>"
      ]
     },
     "metadata": {
      "needs_background": "light"
     },
     "output_type": "display_data"
    }
   ],
   "source": [
    "import matplotlib.pyplot as plt\n",
    "\n",
    "# en m\n",
    "x = [-0.3308,-0.3154,-0.2846,-0.23636,-0.1714,-0.0913,-0.0011,0.0879,0.1681,0.2363,0.2868,0.3198,0.3385]\n",
    "y = [0.1429,0.1242,0.0945,0.0582,0.0220,-0.0055,-0.0165,-0.0088,0.0154,0.0505,0.0879,0.1198,0.1407]\n",
    "\n",
    "dt = 0.05 # en s\n",
    "vx = [] # en m/s\n",
    "vy = [] # en m/s\n",
    "m_dvx_sur_dt = [] # en kg.m/s2\n",
    "m_dvy_sur_dt = [] # en kg.m/s2\n",
    "\n",
    "echelle_vitesse = 5 # 1 cm <=> 5 m/s\n",
    "echelle_force = 4 # 1 cm <=> 2 N\n",
    "poids = -0.024*9.81 # en N\n",
    "\n",
    "for i in range(len(x)):\n",
    "    plt.arrow(x[i],y[i],0,poids/echelle_force,color='red',head_width=0.01,length_includes_head=True)\n",
    "    plt.plot([x[i],0.0],[y[i],0.411],color='grey')\n",
    "for i in range(len(x)-1):\n",
    "    vx.append((x[i+1]-x[i])/dt)\n",
    "    vy.append((y[i+1]-y[i])/dt)\n",
    "\n",
    "# Boucle à compléter remplacer le \"À faire\"\n",
    "for i in range(1,len(x)-1):\n",
    "    print(\"À faire\")\n",
    "\n",
    "# Affichage\n",
    "plt.title(\"Étude d'un pendule simple\")\n",
    "plt.text(-0.3,0.45,\"L = 441 mm et m = 24 g\")\n",
    "plt.xlabel(\"x en m\")\n",
    "plt.ylabel(\"y en m\")\n",
    "plt.axis('equal')\n",
    "plt.scatter(x,y,color='black',marker='o')\n",
    "plt.show()"
   ]
  },
  {
   "cell_type": "markdown",
   "metadata": {},
   "source": [
    "Amusez vous bien ;-)))"
   ]
  },
  {
   "cell_type": "code",
   "execution_count": null,
   "metadata": {},
   "outputs": [],
   "source": []
  }
 ],
 "metadata": {
  "kernelspec": {
   "display_name": "Python 3",
   "language": "python",
   "name": "python3"
  },
  "language_info": {
   "codemirror_mode": {
    "name": "ipython",
    "version": 3
   },
   "file_extension": ".py",
   "mimetype": "text/x-python",
   "name": "python",
   "nbconvert_exporter": "python",
   "pygments_lexer": "ipython3",
   "version": "3.7.3"
  }
 },
 "nbformat": 4,
 "nbformat_minor": 2
}
