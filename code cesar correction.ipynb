{
 "cells": [
  {
   "cell_type": "code",
   "execution_count": 2,
   "metadata": {},
   "outputs": [],
   "source": [
    "def cesar_chiffre_nb(x, k):\n",
    "    \"\"\"\n",
    "    la fonction renvoie le reste modulo 26 de la somme x+k\n",
    "    params :\n",
    "    int x : entier compris entre 0 et 26\n",
    "    int k : entier correspondant au décalage\n",
    "    return : entier\n",
    "    \"\"\"\n",
    "    nb = (x+k)%26\n",
    "    return nb"
   ]
  },
  {
   "cell_type": "code",
   "execution_count": 3,
   "metadata": {},
   "outputs": [
    {
     "data": {
      "text/plain": [
       "6"
      ]
     },
     "execution_count": 3,
     "metadata": {},
     "output_type": "execute_result"
    }
   ],
   "source": [
    "cesar_chiffre_nb(17,15)"
   ]
  },
  {
   "cell_type": "code",
   "execution_count": 4,
   "metadata": {},
   "outputs": [],
   "source": [
    "def cesar_chiffre_mot(mot, k):\n",
    "    \"\"\"\n",
    "    la fonction renvoie le mot codé avec un décalage k\n",
    "    params :\n",
    "    str mot : chaine de caractères en majuscule\n",
    "    int k : entier décalage\n",
    "    return : chaine de caractères str\n",
    "    \"\"\"\n",
    "    # liste des lettres du mot à coder\n",
    "    liste_lettre = []\n",
    "    for lettre in mot :\n",
    "        liste_lettre.append(lettre)\n",
    "    # liste correspondant  aux numéros des lettres dans l'alphabet \n",
    "    liste_indice_lettre = []\n",
    "    for index in range(len(liste_lettre)) :\n",
    "        indice_lettre = ord(liste_lettre[index])-65\n",
    "        liste_indice_lettre.append(indice_lettre)\n",
    "    # liste des numéros décalés de k\n",
    "    liste_indice_lettre_code = []\n",
    "    for index in range(len(liste_indice_lettre)) :\n",
    "        indice_lettre_code = cesar_chiffre_nb(liste_indice_lettre[index], k)\n",
    "        liste_indice_lettre_code.append(indice_lettre_code)\n",
    "    # liste des lettres codées\n",
    "    liste_lettre_codee = []\n",
    "    for index in range(len(liste_indice_lettre_code)) :\n",
    "        lettre_codee = chr(liste_indice_lettre_code[index]+65)\n",
    "        liste_lettre_codee.append(lettre_codee)\n",
    "    # on reforme le mot codé\n",
    "    mot_code = \"\".join(liste_lettre_codee)\n",
    "    \n",
    "    return mot_code"
   ]
  },
  {
   "cell_type": "code",
   "execution_count": 6,
   "metadata": {},
   "outputs": [
    {
     "data": {
      "text/plain": [
       "'NQMGOMYBE'"
      ]
     },
     "execution_count": 6,
     "metadata": {},
     "output_type": "execute_result"
    }
   ],
   "source": [
    "cesar_chiffre_mot('BEAUCAMPS',12)"
   ]
  },
  {
   "cell_type": "code",
   "execution_count": 9,
   "metadata": {},
   "outputs": [],
   "source": [
    "def cesar_attaque(mot):\n",
    "    \"\"\"\n",
    "    retourne tous les mots possibles avec un decalage allant de 0 à 25\n",
    "    params :\n",
    "    str mot : chaine de caracteres\n",
    "    return : chaine de caracteres\n",
    "    \"\"\"\n",
    "    for k in range(26):\n",
    "        print(cesar_chiffre_mot(mot,-k))\n",
    "    return None"
   ]
  },
  {
   "cell_type": "code",
   "execution_count": 10,
   "metadata": {},
   "outputs": [
    {
     "name": "stdout",
     "output_type": "stream",
     "text": [
      "NQMGOMYBE\n",
      "MPLFNLXAD\n",
      "LOKEMKWZC\n",
      "KNJDLJVYB\n",
      "JMICKIUXA\n",
      "ILHBJHTWZ\n",
      "HKGAIGSVY\n",
      "GJFZHFRUX\n",
      "FIEYGEQTW\n",
      "EHDXFDPSV\n",
      "DGCWECORU\n",
      "CFBVDBNQT\n",
      "BEAUCAMPS\n",
      "ADZTBZLOR\n",
      "ZCYSAYKNQ\n",
      "YBXRZXJMP\n",
      "XAWQYWILO\n",
      "WZVPXVHKN\n",
      "VYUOWUGJM\n",
      "UXTNVTFIL\n",
      "TWSMUSEHK\n",
      "SVRLTRDGJ\n",
      "RUQKSQCFI\n",
      "QTPJRPBEH\n",
      "PSOIQOADG\n",
      "ORNHPNZCF\n"
     ]
    }
   ],
   "source": [
    "cesar_attaque('NQMGOMYBE')"
   ]
  }
 ],
 "metadata": {
  "kernelspec": {
   "display_name": "Python 3",
   "language": "python",
   "name": "python3"
  },
  "language_info": {
   "codemirror_mode": {
    "name": "ipython",
    "version": 3
   },
   "file_extension": ".py",
   "mimetype": "text/x-python",
   "name": "python",
   "nbconvert_exporter": "python",
   "pygments_lexer": "ipython3",
   "version": "3.7.3"
  }
 },
 "nbformat": 4,
 "nbformat_minor": 2
}
