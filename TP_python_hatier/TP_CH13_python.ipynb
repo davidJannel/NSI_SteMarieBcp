{
 "cells": [
  {
   "cell_type": "markdown",
   "metadata": {},
   "source": [
    "### TP CH13 <h3 align=\"right\">1ère spé physique</h3>"
   ]
  },
  {
   "cell_type": "markdown",
   "metadata": {},
   "source": [
    "# **<center>Simulation d'un lancer de poids</center>**"
   ]
  },
  {
   "cell_type": "markdown",
   "metadata": {},
   "source": [
    "Nom :\n",
    "\n",
    "Prénom :\n",
    "\n",
    "Classe :"
   ]
  },
  {
   "cell_type": "markdown",
   "metadata": {},
   "source": [
    "La seconde loi de Newton permet de simuler le mouvement d'un système.\n",
    "\n",
    "**L'objectif de ce TP est de simuler la trajectoire d'un poids lancé par un athlète**\n",
    "\n",
    "<img src=doc1.png>"
   ]
  },
  {
   "cell_type": "markdown",
   "metadata": {},
   "source": [
    "## Documents :\n",
    "\n",
    "### Doc.1 : Le lancer de poids en compétition féminine\n",
    "\n",
    "La boule utilisée lors d'un lancer de poids en compétition féminine a un masse *m* = 4,00 kg. La portée du lancer est la distance atteinte par la boule à son premier contact avec le sol.\n",
    "\n",
    "Cette portée dépend de la vitesse d'éjection de la boule, de son altitude initiale, de la présence de vent et des frottements de l'air.\n",
    "\n",
    "Si l'action de l'air doit être prise en compte, cette portée n'a pas d'expression littérale simple. Il faut donc simuler le mouvement.\n"
   ]
  },
  {
   "cell_type": "markdown",
   "metadata": {},
   "source": [
    "### Doc. 2 : Modèle simplifié du mouvement\n",
    "\n",
    "- La boule, modélisée par son centre, est étudiée dans le référentiel terrestre. On définit :\n",
    "    - le repère choisi $\\mathrm{(O, \\overrightarrow{i}, \\overrightarrow{j})}$ et les coordonnées (x, y) pour repérer la position du projectile dans le plan de tir;\n",
    "    - l'altitude initiale de la boule notée h;\n",
    "    - sa vitesse d'éjection $\\mathrm{\\overrightarrow{v_0}}$ inclinée d'un angle $\\mathrm{\\alpha{}}$ au-dessus de l'horizontale.\n",
    "\n",
    "<img src=doc2.png>\n",
    "\n",
    "- Les forces exercées sur le système sont :\n",
    "    - son poids $\\mathrm{\\overrightarrow{P}=m\\overrightarrow{g}}$, vertical et vers le bas, s'écrivant $\\mathrm{\\overrightarrow{P}=-m\\overrightarrow{g}\\overrightarrow{j}}$;\n",
    "    - une éventuelle force de frottement de l'air $\\mathrm{\\overrightarrow{f}=-k\\overrightarrow{v}}$ avec k une constante (en N.s/m) : $\\mathrm{\\overrightarrow{f}=-k v_x\\overrightarrow{i}-k v_y\\overrightarrow{j}}$;\n",
    "    - une éventuelle force due au vent $\\mathrm{\\overrightarrow{T}=T\\overrightarrow{i}}$, constante sur le trajet du système et dirigée horizontalement vers la gauche ou la droite."
   ]
  },
  {
   "cell_type": "markdown",
   "metadata": {},
   "source": [
    "### Doc. 3 : Forces et mouvement\n",
    "\n",
    "Soit $\\mathrm{\\overrightarrow{F_{tot}}}$ la somme vectorielle de toutes les forces qui s'exercent sur le système de masse m.\n",
    "\n",
    "Si on connaît le mouvement du système à un nistant t, on peut connaître à l'instant $\\mathrm{t+\\Delta{}t}$ :\n",
    "- sa vitesse :\n",
    "$$\\mathrm{\\overrightarrow{v}(t+\\Delta{}t)=\\overrightarrow{v}(t)+\\dfrac{\\Delta{}t}{m}~\\overrightarrow{F_{tot}}}$$\n",
    "- sa position :\n",
    "$$\\mathrm{\\overrightarrow{OM}(t+\\Delta{}t)=\\overrightarrow{OM}(t)+\\overrightarrow{v}(t)\\Delta{}t}$$"
   ]
  },
  {
   "cell_type": "markdown",
   "metadata": {},
   "source": [
    "*Données : intensité de la pesanteur g = 9,81 N/kg*"
   ]
  },
  {
   "cell_type": "markdown",
   "metadata": {},
   "source": [
    "## Questions du TP :"
   ]
  },
  {
   "cell_type": "markdown",
   "metadata": {},
   "source": [
    "**1. Dans cette première question, on négligera l'action de l'air sur la boule**\n",
    "\n",
    "**1.a.** Compléter le fichier python ci-dessous, l'executer (Crtl+Enter pour executer le contenu) et utiliser le graphe obtenu pour déterminer la portée du tir."
   ]
  },
  {
   "cell_type": "code",
   "execution_count": null,
   "metadata": {},
   "outputs": [],
   "source": [
    "import numpy as np\n",
    "import matplotlib.pylab as plt\n",
    "\n",
    "print(\"\")\n",
    "print(\"*****************************\")\n",
    "print(\"* Mouvement d'un projectile *\")\n",
    "print(\"*****************************\")\n",
    "print(\"\")\n",
    "\n",
    "### Données \n",
    "h=2.2\t\t# Altitude initiale de la boule (m)\n",
    "v0=10\t\t# Norme de la vitesse initiale (m/s)\n",
    "m=4.00\t        # Masse du système (kg)\n",
    "g=9.81\t        # Norme du champ de pesanteur (N/kg)\n",
    "Np=100000\t# Nombre de pas maximal de calcul\n",
    "Dt=1E-2\t        # Pas de temps (s)\n",
    "\n",
    "#######################################\n",
    "### Données à modifier (question 2) ###\n",
    "#######################################\n",
    "angle=40\t# Angle de lancer au-dessus de l'horizontale (°)\n",
    "k=0\t\t# Coefficient de frottement k (N.s/m)\n",
    "Tx=0\t\t# Force du vent Tx (N)\n",
    "\n",
    "### Initialisation \n",
    "### Création de tableaux remplis de zéros\n",
    "t=np.zeros(Np+1)\n",
    "x=np.zeros(Np+1)\n",
    "y=np.zeros(Np+1)\n",
    "vx=np.zeros(Np+1)\n",
    "vy=np.zeros(Np+1)\n",
    "### Position initiale de la boule\n",
    "x[0]=0\n",
    "y[0]=h\n",
    "### Coordonnées du vecteur vitesse initiale\n",
    "vx[0]=v0*np.cos(angle/180*np.pi)\n",
    "vy[0]=v0*np.sin(angle/180*np.pi)\n",
    "### Pas de calcul\n",
    "p=0\n",
    "\n",
    "### Boucle de calcul du mouvement \n",
    "while y[p]>=0:\n",
    "\t# Calcul de la date \n",
    "\tt[p+1]=t[p]+Dt\n",
    "\t########################################\n",
    "\t### À compléter : question 1a puis 2 ###\n",
    "\t########################################\n",
    "\t### Coordonnées de la somme des forces \n",
    "\tFx=\n",
    "\tFy=\n",
    "\t### Coordonnées de la variation du vecteur vitesse\n",
    "\tDvx=\n",
    "\tDvy=\n",
    "\t### Coordonnées du vecteur vitesse à l'instant t+Dt\n",
    "\tvx[p+1]=\n",
    "\tvy[p+1]=\n",
    "\n",
    "\t### Ne pas modifier :\n",
    "\t### Coordonnées de la position à l'instant t+Dt\n",
    "\tx[p+1]=x[p]+vx[p]*Dt\n",
    "\ty[p+1]=y[p]+vy[p]*Dt\n",
    "\t### Avancement du pas de calcul\n",
    "\tp=p+1\n",
    "\n",
    "##################################\n",
    "#### question 1b ####\n",
    "### Détermination de la portée ###\n",
    "##################################\n",
    "portee=x[p]\t# Expression à expliquer\n",
    "\n",
    "### Affichage des données et de la portée\n",
    "print(\"Données :\")\n",
    "print(\"- masse du système m =\",m,\"kg\")\n",
    "print(\"- hauteur de lancer h =\",h,\"m\")\n",
    "print(\"- norme de la vitesse initiale v0 =\",v0,\"m/s\")\n",
    "print(\"- angle de tir\",angle,\"°\")\n",
    "print(\"- coefficient de frottement k =\",k,\"N.s/m\")\n",
    "print(\"- force due au vent horizontal Tx =\",Tx,\" N\")\n",
    "print(\"Portée du tir :\",round(portee,2),\"m\") \n",
    "print(\"\")\n",
    "\n",
    "### Tracé de la trajectoire du système\n",
    "plt.plot(x[0:p],y[0:p],'-',lw=2)\n",
    "plt.xlabel(\"x (en m)\")\n",
    "plt.ylabel(\"y (en m)\")\n",
    "plt.title(\"Trajectoire du système\")\n",
    "plt.grid(True)\n",
    "plt.tight_layout()\n",
    "plt.show()"
   ]
  },
  {
   "cell_type": "markdown",
   "metadata": {},
   "source": [
    "**1.b.** <center>Portée du tir =</center>\n",
    "\n",
    "Expliquer pourquoi cette portée est obtenue avec l'expression `portee = x[p]` ?"
   ]
  },
  {
   "cell_type": "markdown",
   "metadata": {},
   "source": [
    "**2.** Modifier le programme le programme pour prendre en compte une force de frottement de l'air (k = 0.1 N.s/m) et une force due au vent (Tx = -10 N).\n",
    "\n",
    "Comment est modifiée la portée du lancer ?"
   ]
  },
  {
   "cell_type": "markdown",
   "metadata": {},
   "source": [
    "**3.** Reprendre à nouveau le programme précèdent et en tatonant, retrouver, au degré près, l'angle $\\mathrm{\\alpha}$ pour lequel la portée est maximale.\n",
    "$$\\mathrm{\\alpha = }$$"
   ]
  },
  {
   "cell_type": "markdown",
   "metadata": {},
   "source": [
    "**4.** Modifier le programme ci-dessous, en utlisant un boucle for, pour calculer pour chaque angle de 0° à 90°, la portée du lancer."
   ]
  },
  {
   "cell_type": "code",
   "execution_count": null,
   "metadata": {},
   "outputs": [],
   "source": [
    "import numpy as np\n",
    "import matplotlib.pylab as plt\n",
    "### Le programme utilise une fonction d'un fichier annexe\n",
    "import trajectoire\n",
    "\n",
    "print(\"\")\n",
    "print(\"**************************\")\n",
    "print(\"* Portée d'un projectile *\")\n",
    "print(\"**************************\")\n",
    "print(\"\")\n",
    "\n",
    "### Données \n",
    "h=2.2\t\t# Altitude initiale de la boule (m)\n",
    "m=4.00\t        # Masse du système (kg)\n",
    "g=9.81\t        # Norme du champ de pesanteur (N/kg)\n",
    "Np=100000\t# Nombre de pas maximal de calcul\n",
    "Dt=1E-2\t        # Pas de temps (s)\n",
    "\n",
    "#######################################\n",
    "### Données à modifier (question 5) ###\n",
    "#######################################\n",
    "v0=10\t\t# Norme de la vitesse initiale (m/s)\n",
    "k=0.1\t\t# Coefficient de frottement k (N.s/m)\n",
    "Tx=-10\t\t# Force du vent Tx (N)\n",
    "\n",
    "### Initialisation des tableaux\n",
    "portee=np.zeros(91)\n",
    "angle=np.zeros(91)\n",
    "\n",
    "#############################################\n",
    "### À compléter et modifier : question 4 ###\n",
    "#############################################\n",
    "### Indice qui sera modifié par la boucle for à introduire\n",
    "n=0\n",
    "### Angle de tir, à faire varier entre 0 et 90°\n",
    "angle[n]=n\n",
    "### Utilisation de la fonction \"portee\" \n",
    "### figurant dans le fichier annexe \n",
    "### pour déterminer les variations de x\n",
    "portee[n]=trajectoire.portee(m,g,k,h,Tx,v0,angle[n])\n",
    "\n",
    "### Identification de la portee maximale (ne pas modifier)\n",
    "porteemax=int(100*portee[np.where(portee==np.max(portee))])/100\n",
    "### Identification de l'angle optimal de lancer\n",
    "angleopt=int(angle[np.where(portee==np.max(portee))])\n",
    "\n",
    "### Affichage des données et de la portée\n",
    "print(\"Données :\")\n",
    "print(\"- masse du système m =\",m,\"kg\")\n",
    "print(\"- hauteur de lancer h =\",h,\"m\")\n",
    "print(\"- norme de la vitesse initiale v0 =\",v0,\"m/s\")\n",
    "print(\"- coefficient de frottement k =\",k,\"N.s/m\")\n",
    "print(\"- force due au vent horizontal Tx =\",Tx,\" N\")\n",
    "print(\"Portée du tir maximale :\",porteemax,\"m\")\n",
    "print(\"pour un angle de tir\",angleopt,\"°\")\n",
    "print(\"\")\n",
    "\n",
    "### Tracé de la portée en fonction de l'angle de tir\n",
    "fig=plt.figure()\n",
    "ax=fig.add_subplot(111,polar=True)\n",
    "c=ax.plot(angle/180*np.pi,portee)\n",
    "ax.set_thetamin(0)\n",
    "ax.set_thetamax(90)\n",
    "plt.title(\"Portée en fonction de l'angle de tir\")\n",
    "plt.show()"
   ]
  },
  {
   "cell_type": "markdown",
   "metadata": {},
   "source": [
    "Comparer l'angle de lancer optimal avec la valeur obtenue à la question 3."
   ]
  },
  {
   "cell_type": "markdown",
   "metadata": {},
   "source": [
    "**5.** Le record mondial en salle (sans présence de vent)appartient à l'athlète tchèque Helena Fibingerova avec 22,50 m en 1977.\n",
    "\n",
    "**a** Déterminer la vitesse d'éjection du poids pour obtenir un tel record, ainsi que l'angle idéal de lancer (avec toujours k = 0,1 N.s/m)\n",
    "\n",
    "$$\\mathrm{v_0 =}$$\n",
    "$$\\mathrm{\\alpha =}$$\n",
    "\n",
    "**b.** Quelle aurait été la portée du même tir avec du vent (Tx = -10 N) ?\n",
    "\n",
    "\n",
    "<center>portée =</center>"
   ]
  }
 ],
 "metadata": {
  "kernelspec": {
   "display_name": "Python 3",
   "language": "python",
   "name": "python3"
  },
  "language_info": {
   "codemirror_mode": {
    "name": "ipython",
    "version": 3
   },
   "file_extension": ".py",
   "mimetype": "text/x-python",
   "name": "python",
   "nbconvert_exporter": "python",
   "pygments_lexer": "ipython3",
   "version": "3.7.3"
  }
 },
 "nbformat": 4,
 "nbformat_minor": 2
}
